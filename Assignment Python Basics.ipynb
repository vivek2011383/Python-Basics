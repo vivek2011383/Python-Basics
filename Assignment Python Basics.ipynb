{
 "cells": [
  {
   "cell_type": "markdown",
   "metadata": {},
   "source": [
    "1. What is Python, and why is it popular?\n",
    "    - Python is a programming language which enable us to give instructions to computer or write a computer programme.\n",
    "    - Python is popular because of it is easy to learn, versatile, have large active community and also have many libraries.\n",
    "\n",
    "2. What is an interpreter in Python?\n",
    "    - Python interpreter is a program that reads and executes Python code.\n",
    "\n",
    "3. What are pre-defined keywords in Python?\n",
    "    - Predefined keywords in Python are reserved words with specific meanings that are used to define the syntax and structures of the Python language. They are always available and can't be used for anything other than their specific purposes. \n",
    "\n",
    "4. Can keywords be used as variable names?\n",
    "    - Keywords can't be used for anything other than their specific purposes.\n",
    "\n",
    "5. What is mutability in Python?\n",
    "    - Mutability is the ability to change the value after it has been created.\n",
    "\n",
    "6. Why are lists mutable, but tuples are immutable?\n",
    "    - Tuples use parentheses instead of square brackets, \n",
    "    - Items in tuples cannot be modified but the items in lists can be modified.\n",
    "\n",
    "7. What is the difference between “==” and “is” operators in Python?\n",
    "    - \"==\": The equality operator compares the values of two objects.\n",
    "    - \"is\": The identity operator checks if two variables point to the same object in memory.\n",
    "\n",
    "8. What are logical operators in Python?\n",
    "    - keywords that evaluate conditions in expressions and return a Boolean value. \n",
    "    - \"and\": Returns True if both operands are true \n",
    "    - \"or\": Returns True if either operand is true\n",
    "\n",
    "9. What is type casting in Python?\n",
    "    - The process of changing a variable's data type from one type to another.\n",
    "\n",
    "10. What is the difference between implicit and explicit type casting?\n",
    "    - Implicit type casting is when Python automatically converts data types\n",
    "    - Explicit type casting is when a programmer manually converts data types.\n",
    "\n",
    "11. What is the purpose of conditional statements in Python?\n",
    "    - Control the flow of a program by executing code based on certain conditions.\n",
    "\n",
    "12. How does the elif statement work?\n",
    "    - It can be used in conditional statements to check for multiple conditions.\n",
    "    - For example, if the first condition is false, it moves on to the next “elif” statement to check if that condition is true.\n",
    "\n",
    "13. What is the difference between for and while loop?\n",
    "    - For loop is used when the number of iterations is already known. While loop is used when the number of iterations are Unknown. \n",
    "\n",
    "14. Describe a scenario where a while loop is more suitable than a for loop.\n",
    "    - While loop is more suitable when we have certain condition and we don't know the number of iteration.\n",
    "    - For loop is used when we know the number of iteration of code, for example in Strings, lists, tuples."
   ]
  },
  {
   "cell_type": "code",
   "execution_count": 1,
   "metadata": {},
   "outputs": [
    {
     "name": "stdout",
     "output_type": "stream",
     "text": [
      "Hello, World!\n"
     ]
    }
   ],
   "source": [
    "#1. Write a Python program to print \"Hello, World!\"\n",
    "print(\"Hello, World!\")"
   ]
  },
  {
   "cell_type": "code",
   "execution_count": 9,
   "metadata": {},
   "outputs": [
    {
     "name": "stdout",
     "output_type": "stream",
     "text": [
      "Vivek Kumar\n",
      "21\n"
     ]
    }
   ],
   "source": [
    "#2. Write a Python program that displays your name and age.\n",
    "Name= \"Vivek Kumar\"\n",
    "Age=21\n",
    "\n",
    "print(Name)\n",
    "print(Age)"
   ]
  },
  {
   "cell_type": "code",
   "execution_count": 32,
   "metadata": {},
   "outputs": [
    {
     "name": "stdout",
     "output_type": "stream",
     "text": [
      "\n",
      "Here is a list of the Python keywords.  Enter any keyword to get more help.\n",
      "\n",
      "False               class               from                or\n",
      "None                continue            global              pass\n",
      "True                def                 if                  raise\n",
      "and                 del                 import              return\n",
      "as                  elif                in                  try\n",
      "assert              else                is                  while\n",
      "async               except              lambda              with\n",
      "await               finally             nonlocal            yield\n",
      "break               for                 not                 \n",
      "\n",
      "OR\n",
      "All pre defined keywords are: \n",
      "['False', 'None', 'True', 'and', 'as', 'assert', 'async', 'await', 'break', 'class', 'continue', 'def', 'del', 'elif', 'else', 'except', 'finally', 'for', 'from', 'global', 'if', 'import', 'in', 'is', 'lambda', 'nonlocal', 'not', 'or', 'pass', 'raise', 'return', 'try', 'while', 'with', 'yield']\n"
     ]
    }
   ],
   "source": [
    "#3. Write code to print all the pre-defined keywords in Python using the keyword library.\n",
    "help('keywords')\n",
    "#or \n",
    "print(\"OR\")\n",
    "print(\"All pre defined keywords are: \")\n",
    "print(keyword.kwlist)"
   ]
  },
  {
   "cell_type": "code",
   "execution_count": 38,
   "metadata": {},
   "outputs": [
    {
     "name": "stdout",
     "output_type": "stream",
     "text": [
      "Given word is not a Keyword!\n",
      "Keywords list is:  ['False', 'None', 'True', 'and', 'as', 'assert', 'async', 'await', 'break', 'class', 'continue', 'def', 'del', 'elif', 'else', 'except', 'finally', 'for', 'from', 'global', 'if', 'import', 'in', 'is', 'lambda', 'nonlocal', 'not', 'or', 'pass', 'raise', 'return', 'try', 'while', 'with', 'yield']\n"
     ]
    }
   ],
   "source": [
    "#4. Write a program that checks if a given word is a Python keyword.\n",
    "a= keyword.kwlist\n",
    "\n",
    "x=input(\"Please type a word\")\n",
    "if x in a:\n",
    "    print(\"Given word is a Keyword.\")\n",
    "else:\n",
    "    print(\"Given word is not a Keyword!\")\n",
    "    print(\"Keywords list is: \",a)"
   ]
  },
  {
   "cell_type": "code",
   "execution_count": 9,
   "metadata": {},
   "outputs": [
    {
     "name": "stdout",
     "output_type": "stream",
     "text": [
      "List:  [1, 2, 3, 'vivek', 2.4, False]\n",
      "Tuple:  (1, 2, 3, 'vivek', 3.2, True)\n",
      "After changing List item:  [1, 2, 4, 'vivek', 2.4, False]\n"
     ]
    },
    {
     "ename": "TypeError",
     "evalue": "'tuple' object does not support item assignment",
     "output_type": "error",
     "traceback": [
      "\u001b[1;31m---------------------------------------------------------------------------\u001b[0m",
      "\u001b[1;31mTypeError\u001b[0m                                 Traceback (most recent call last)",
      "Cell \u001b[1;32mIn[9], line 12\u001b[0m\n\u001b[0;32m      9\u001b[0m \u001b[38;5;28mprint\u001b[39m(\u001b[38;5;124m\"\u001b[39m\u001b[38;5;124mAfter changing List item: \u001b[39m\u001b[38;5;124m\"\u001b[39m,my_list)\n\u001b[0;32m     11\u001b[0m \u001b[38;5;66;03m#Applying change in Tuple item\u001b[39;00m\n\u001b[1;32m---> 12\u001b[0m \u001b[43mmy_tuple\u001b[49m\u001b[43m[\u001b[49m\u001b[38;5;241;43m2\u001b[39;49m\u001b[43m]\u001b[49m\u001b[38;5;241m=\u001b[39m\u001b[38;5;241m4\u001b[39m\n\u001b[0;32m     13\u001b[0m \u001b[38;5;28mprint\u001b[39m(\u001b[38;5;124m\"\u001b[39m\u001b[38;5;124mAfter changing Tuple item: \u001b[39m\u001b[38;5;124m\"\u001b[39m,my_tuple)\n\u001b[0;32m     14\u001b[0m \u001b[38;5;66;03m# Results shows \"Tuple\" can't be change as it is immutable.\u001b[39;00m\n",
      "\u001b[1;31mTypeError\u001b[0m: 'tuple' object does not support item assignment"
     ]
    }
   ],
   "source": [
    "#5. Create a list and tuple in Python, and demonstrate how attempting to change an element works differently for each.\n",
    "my_list=[1,2,3,\"vivek\",2.4,False]\n",
    "my_tuple=(1,2,3,\"vivek\",3.2,True)\n",
    "print(\"List: \",my_list)\n",
    "print(\"Tuple: \", my_tuple)\n",
    "\n",
    "#Applying change in List item\n",
    "my_list[2]=4\n",
    "print(\"After changing List item: \",my_list)\n",
    "\n",
    "#Applying change in Tuple item\n",
    "my_tuple[2]=4\n",
    "print(\"After changing Tuple item: \",my_tuple)\n",
    "# Results shows \"Tuple\" can't be change as it is immutable."
   ]
  },
  {
   "cell_type": "code",
   "execution_count": 7,
   "metadata": {},
   "outputs": [
    {
     "name": "stdout",
     "output_type": "stream",
     "text": [
      "Argument1:  [1, 2, 3, 4, 5]\n",
      "Argument2:  (1, 2, 3, 4, 5)\n",
      "After changing first element in Argument1:\n",
      "Argument1:  ['Vivek', 2, 3, 4, 5]\n",
      "After changing first element in Argument2:\n"
     ]
    },
    {
     "ename": "TypeError",
     "evalue": "'tuple' object does not support item assignment",
     "output_type": "error",
     "traceback": [
      "\u001b[1;31m---------------------------------------------------------------------------\u001b[0m",
      "\u001b[1;31mTypeError\u001b[0m                                 Traceback (most recent call last)",
      "Cell \u001b[1;32mIn[7], line 16\u001b[0m\n\u001b[0;32m     14\u001b[0m \u001b[38;5;66;03m#After applying changes to Argument2\u001b[39;00m\n\u001b[0;32m     15\u001b[0m \u001b[38;5;28mprint\u001b[39m(\u001b[38;5;124m\"\u001b[39m\u001b[38;5;124mAfter changing first element in Argument2:\u001b[39m\u001b[38;5;124m\"\u001b[39m )\n\u001b[1;32m---> 16\u001b[0m \u001b[43mArgument2\u001b[49m\u001b[43m[\u001b[49m\u001b[38;5;241;43m0\u001b[39;49m\u001b[43m]\u001b[49m\u001b[38;5;241m=\u001b[39m\u001b[38;5;124m\"\u001b[39m\u001b[38;5;124mVivek\u001b[39m\u001b[38;5;124m\"\u001b[39m\n\u001b[0;32m     17\u001b[0m \u001b[38;5;28mprint\u001b[39m(\u001b[38;5;124m\"\u001b[39m\u001b[38;5;124mArgument2: \u001b[39m\u001b[38;5;124m\"\u001b[39m, Argument2)\n",
      "\u001b[1;31mTypeError\u001b[0m: 'tuple' object does not support item assignment"
     ]
    }
   ],
   "source": [
    "#6. Write a function to demonstrate the behavior of mutable and immutable arguments.\n",
    "\n",
    "Argument1=[1,2,3,4,5] #we  have learned List is mutable\n",
    "Argument2=(1,2,3,4,5) #we have learnded Tuple is immutable\n",
    "\n",
    "print(\"Argument1: \", Argument1)\n",
    "print(\"Argument2: \", Argument2)\n",
    "\n",
    "#After applying changes to Argument1\n",
    "print(\"After changing first element in Argument1:\" )\n",
    "Argument1[0]=\"Vivek\"\n",
    "print(\"Argument1: \", Argument1)\n",
    "\n",
    "#After applying changes to Argument2\n",
    "print(\"After changing first element in Argument2:\" )\n",
    "Argument2[0]=\"Vivek\"\n",
    "print(\"Argument2: \", Argument2)"
   ]
  },
  {
   "cell_type": "code",
   "execution_count": 11,
   "metadata": {},
   "outputs": [],
   "source": [
    "#7. Write a function to demonstrate the behavior of mutable and immutable arguments.\n",
    "\n",
    "Argument1=[1,2,3,4,5] #we  have learned List is mutable\n",
    "Argument2=(1,2,3,4,5) #we have learnded Tuple is immutable\n",
    "\n",
    "print(\"Argument1: \", Argument1)\n",
    "print(\"Argument2: \", Argument2)\n",
    "\n",
    "#After applying changes to Argument1\n",
    "print(\"After changing first element in Argument1:\" )\n",
    "Argument1[0]=\"Vivek\"\n",
    "print(\"Argument1: \", Argument1)\n",
    "\n",
    "#After applying changes to Argument2\n",
    "print(\"After changing first element in Argument2:\" )\n",
    "Argument2[0]=\"Vivek\"\n",
    "print(\"Argument2: \", Argument2)"
   ]
  },
  {
   "cell_type": "code",
   "execution_count": 41,
   "metadata": {},
   "outputs": [
    {
     "name": "stdout",
     "output_type": "stream",
     "text": [
      "Candies:  ['Pulse', 'Alpenliebe', 'Eclairs', 'Mango bite']\n",
      "Cold Drinks:  ['Sprite', 'Coke', 'Mountain Dew', 'Fanta', 'Slice']\n",
      "Pulse  and  Maaza : \n"
     ]
    },
    {
     "data": {
      "text/plain": [
       "False"
      ]
     },
     "execution_count": 41,
     "metadata": {},
     "output_type": "execute_result"
    }
   ],
   "source": [
    "#8. Write a program to demonstrate the use of logical operators.\n",
    "\n",
    "candies=[\"Pulse\", \"Alpenliebe\", \"Eclairs\", \"Mango bite\"]\n",
    "cold_drinks=[\"Sprite\", \"Coke\", \"Mountain Dew\", \"Fanta\", \"Slice\"]\n",
    "\n",
    "print( \"Candies: \", candies)\n",
    "print(\"Cold Drinks: \",cold_drinks)\n",
    "\n",
    "Candy=input(\"Please input candy\")\n",
    "Cold_Drink=input(\"Please input Cold Drink\")\n",
    "\n",
    "print(Candy,\" and \", Cold_Drink,\": \")\n",
    "(Candy in candies) and (Cold_Drink in cold_drinks)\n",
    "#if both candy name and cold drink name are present is their respective list \"and\" operater  will show true otherwise false.\n"
   ]
  },
  {
   "cell_type": "code",
   "execution_count": 43,
   "metadata": {},
   "outputs": [
    {
     "name": "stdout",
     "output_type": "stream",
     "text": [
      "Pulse  or  Maaza : \n"
     ]
    },
    {
     "data": {
      "text/plain": [
       "True"
      ]
     },
     "execution_count": 43,
     "metadata": {},
     "output_type": "execute_result"
    }
   ],
   "source": [
    "print(Candy,\" or \", Cold_Drink,\": \")\n",
    "(Candy in candies) or (Cold_Drink in cold_drinks)\n",
    "#if either of candy name and cold drink name are present is their respective list \"or\" operater  will show true otherwise false."
   ]
  },
  {
   "cell_type": "code",
   "execution_count": 40,
   "metadata": {},
   "outputs": [
    {
     "name": "stdout",
     "output_type": "stream",
     "text": [
      "Number:  9\n",
      "Number type:  <class 'str'>\n",
      "Changing enetered number into float,integer and Boolean types -->\n",
      "Float type:  9.0\n",
      "Integer type:  9\n",
      "Boolean type:  True\n"
     ]
    }
   ],
   "source": [
    "#9. Write a Python program to convert user input from string to integer, float, and boolean types.\n",
    "\n",
    "number=input(\"Please Enter a Number\")\n",
    "print(\"Number: \", number)\n",
    "print(\"Number type: \", type(number))\n",
    "\n",
    "#typecasting: Changing enetered number into float,integer and Boolean types\n",
    "print(\"Changing enetered number into float,integer and Boolean types -->\")\n",
    "print(\"Float type: \", float(number))\n",
    "print(\"Integer type: \", int(number))\n",
    "print(\"Boolean type: \", bool(number))"
   ]
  },
  {
   "cell_type": "code",
   "execution_count": 49,
   "metadata": {},
   "outputs": [
    {
     "name": "stdout",
     "output_type": "stream",
     "text": [
      "List:  ['Mango', 'Apple', 4, 6, 3.4, False, (8+2j)]\n",
      "4 in List:  <class 'int'>\n",
      "After typecasting on 4 in List:  <class 'str'>\n"
     ]
    }
   ],
   "source": [
    "#10. Write code to demonstrate type casting with list elements.\n",
    "list1=[\"Mango\", \"Apple\", 4, 6, 3.4, False, 8+2j]\n",
    "print(\"List: \", list1)\n",
    "print(\"4 in List: \", type(list1[2]))\n",
    "\n",
    "list1[2]= str(list1[2])\n",
    "print(\"After typecasting on 4 in List: \", type(list1[2]))"
   ]
  },
  {
   "cell_type": "code",
   "execution_count": 54,
   "metadata": {},
   "outputs": [
    {
     "name": "stdout",
     "output_type": "stream",
     "text": [
      "Entered Number:  -2\n",
      "Entered Number is smaller than zero so it is a negative number.\n"
     ]
    }
   ],
   "source": [
    "#11. Write a program that checks if a number is positive, negative, or zero.\n",
    "\n",
    "number1= input(\"Please enter a number\")\n",
    "\n",
    "entered_number= int(number1)\n",
    "print(\"Entered Number: \", entered_number)\n",
    "\n",
    "if entered_number<0:\n",
    "    print(\"Entered Number is smaller than zero so it is a negative number.\")\n",
    "elif entered_number>0:\n",
    "    print(\"Entered Number is greater than zero so it is a positive number.\")\n",
    "else:\n",
    "    print(\"Entered Number is zero.\")\n"
   ]
  },
  {
   "cell_type": "code",
   "execution_count": 15,
   "metadata": {},
   "outputs": [
    {
     "name": "stdout",
     "output_type": "stream",
     "text": [
      "1\n",
      "2\n",
      "3\n",
      "4\n",
      "5\n",
      "6\n",
      "7\n",
      "8\n",
      "9\n",
      "10\n",
      "11\n",
      "12\n",
      "13\n",
      "14\n",
      "15\n",
      "16\n",
      "17\n",
      "18\n",
      "19\n",
      "20\n",
      "21\n",
      "22\n",
      "23\n",
      "24\n",
      "25\n",
      "26\n",
      "27\n",
      "28\n",
      "29\n",
      "30\n",
      "31\n",
      "32\n",
      "33\n",
      "34\n",
      "35\n",
      "36\n",
      "37\n",
      "38\n",
      "39\n",
      "40\n",
      "41\n",
      "42\n",
      "43\n",
      "44\n",
      "45\n",
      "46\n",
      "47\n",
      "48\n",
      "49\n",
      "50\n",
      "51\n",
      "52\n",
      "53\n",
      "54\n",
      "55\n",
      "56\n",
      "57\n",
      "58\n",
      "59\n",
      "60\n",
      "61\n",
      "62\n",
      "63\n",
      "64\n",
      "65\n",
      "66\n",
      "67\n",
      "68\n",
      "69\n",
      "70\n",
      "71\n",
      "72\n",
      "73\n",
      "74\n",
      "75\n",
      "76\n",
      "77\n",
      "78\n",
      "79\n",
      "80\n",
      "81\n",
      "82\n",
      "83\n",
      "84\n",
      "85\n",
      "86\n",
      "87\n",
      "88\n",
      "89\n",
      "90\n",
      "91\n",
      "92\n",
      "93\n",
      "94\n",
      "95\n",
      "96\n",
      "97\n",
      "98\n",
      "99\n",
      "100\n"
     ]
    }
   ],
   "source": [
    "#12.  Write a for loop to print numbers from 1 to 100.\n",
    " \n",
    "\n",
    "for i in range(1,101):\n",
    "    print(i)\n"
   ]
  },
  {
   "cell_type": "code",
   "execution_count": 91,
   "metadata": {},
   "outputs": [
    {
     "name": "stdout",
     "output_type": "stream",
     "text": [
      "650\n"
     ]
    }
   ],
   "source": [
    "#13. Write a Python program to find the sum of all even numbers between 1 and 50.\n",
    "\n",
    "sum=0\n",
    "for i in range(1,51):\n",
    "   if i%2==0:\n",
    "     sum+=i\n",
    "print(sum)"
   ]
  },
  {
   "cell_type": "code",
   "execution_count": 8,
   "metadata": {},
   "outputs": [
    {
     "name": "stdout",
     "output_type": "stream",
     "text": [
      "keviv\n"
     ]
    }
   ],
   "source": [
    "#14. Write a program to reverse a string using a while loop.\n",
    "\n",
    "c= input(\"Please provide a string input\")\n",
    "output=\"\"\n",
    "\n",
    "i=len(c)-1\n",
    "while i>=0:\n",
    "    output= output+c[i]\n",
    "    i=i-1\n",
    "print(output)"
   ]
  },
  {
   "cell_type": "code",
   "execution_count": 14,
   "metadata": {},
   "outputs": [
    {
     "name": "stdout",
     "output_type": "stream",
     "text": [
      "The Factorial of number  4  is :   24\n"
     ]
    }
   ],
   "source": [
    "#15. Write a Python program to calculate the factorial of a number provided by the user using a while loop.\n",
    "\n",
    "num=int(input(\"Please enter a number\"))\n",
    "\n",
    "factorial=1\n",
    "\n",
    "a=1\n",
    "while a<=num:\n",
    "    factorial=factorial*a\n",
    "    a=a+1\n",
    "print(\"The Factorial of number \",num, \" is :  \",factorial)"
   ]
  }
 ],
 "metadata": {
  "kernelspec": {
   "display_name": "Python 3",
   "language": "python",
   "name": "python3"
  },
  "language_info": {
   "codemirror_mode": {
    "name": "ipython",
    "version": 3
   },
   "file_extension": ".py",
   "mimetype": "text/x-python",
   "name": "python",
   "nbconvert_exporter": "python",
   "pygments_lexer": "ipython3",
   "version": "3.11.9"
  }
 },
 "nbformat": 4,
 "nbformat_minor": 2
}
